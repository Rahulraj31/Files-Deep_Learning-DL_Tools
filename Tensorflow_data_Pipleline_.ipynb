{
  "nbformat": 4,
  "nbformat_minor": 0,
  "metadata": {
    "colab": {
      "name": "Tensorflow data Pipleline .ipynb",
      "provenance": []
    },
    "kernelspec": {
      "name": "python3",
      "display_name": "Python 3"
    },
    "language_info": {
      "name": "python"
    },
    "accelerator": "GPU"
  },
  "cells": [
    {
      "cell_type": "code",
      "metadata": {
        "id": "OBiBiTvhfYD7"
      },
      "source": [
        "import tensorflow as tf"
      ],
      "execution_count": 1,
      "outputs": []
    },
    {
      "cell_type": "markdown",
      "metadata": {
        "id": "ySPtqKDSi-8x"
      },
      "source": [
        "## Create tf dataset from a list"
      ]
    },
    {
      "cell_type": "code",
      "metadata": {
        "colab": {
          "base_uri": "https://localhost:8080/"
        },
        "id": "qbKlb_pHi5jl",
        "outputId": "4eb90670-19cd-41cd-ee1c-6bdfcc7979ee"
      },
      "source": [
        "\n",
        "daily_sales_numbers = [21, 22, -108, 31, -1, 32, 34,31]\n",
        "\n",
        "tf_dataset = tf.data.Dataset.from_tensor_slices(daily_sales_numbers)\n",
        "tf_dataset"
      ],
      "execution_count": 2,
      "outputs": [
        {
          "output_type": "execute_result",
          "data": {
            "text/plain": [
              "<TensorSliceDataset shapes: (), types: tf.int32>"
            ]
          },
          "metadata": {
            "tags": []
          },
          "execution_count": 2
        }
      ]
    },
    {
      "cell_type": "markdown",
      "metadata": {
        "id": "zzN5cm_1jJ_o"
      },
      "source": [
        "## Iterate through tf dataset"
      ]
    },
    {
      "cell_type": "code",
      "metadata": {
        "colab": {
          "base_uri": "https://localhost:8080/"
        },
        "id": "jXIHN3XcjBei",
        "outputId": "7d5c64a4-ea58-40d2-b481-37c934cf1645"
      },
      "source": [
        "for sales in tf_dataset:\n",
        "    print(sales.numpy())"
      ],
      "execution_count": 5,
      "outputs": [
        {
          "output_type": "stream",
          "text": [
            "21\n",
            "22\n",
            "-108\n",
            "31\n",
            "-1\n",
            "32\n",
            "34\n",
            "31\n"
          ],
          "name": "stdout"
        }
      ]
    },
    {
      "cell_type": "markdown",
      "metadata": {
        "id": "epkOZiROj5Zf"
      },
      "source": [
        "## Iterate through elements as numpy elements"
      ]
    },
    {
      "cell_type": "code",
      "metadata": {
        "colab": {
          "base_uri": "https://localhost:8080/"
        },
        "id": "roB6kgx5jMnx",
        "outputId": "958405e6-df87-40aa-e02f-4f3a960cbb09"
      },
      "source": [
        "\n",
        "for sales in tf_dataset.as_numpy_iterator():\n",
        "    print(sales)"
      ],
      "execution_count": 6,
      "outputs": [
        {
          "output_type": "stream",
          "text": [
            "21\n",
            "22\n",
            "-108\n",
            "31\n",
            "-1\n",
            "32\n",
            "34\n",
            "31\n"
          ],
          "name": "stdout"
        }
      ]
    },
    {
      "cell_type": "markdown",
      "metadata": {
        "id": "-IbBWN3-kAWm"
      },
      "source": [
        "## Iterate through first n elements in tf dataset\n"
      ]
    },
    {
      "cell_type": "code",
      "metadata": {
        "colab": {
          "base_uri": "https://localhost:8080/"
        },
        "id": "eHsgrZ7wj8ni",
        "outputId": "3586d648-3efb-4400-f2dd-9aa5f883d91a"
      },
      "source": [
        "for sales in tf_dataset.take(3):\n",
        "    print(sales.numpy())"
      ],
      "execution_count": 7,
      "outputs": [
        {
          "output_type": "stream",
          "text": [
            "21\n",
            "22\n",
            "-108\n"
          ],
          "name": "stdout"
        }
      ]
    },
    {
      "cell_type": "markdown",
      "metadata": {
        "id": "lNZX_5kVkHSR"
      },
      "source": [
        "\n",
        "# Filter sales numbers that are < 0\n",
        "\n"
      ]
    },
    {
      "cell_type": "code",
      "metadata": {
        "colab": {
          "base_uri": "https://localhost:8080/"
        },
        "id": "enSt3YdhkDzx",
        "outputId": "79274ead-3681-4bce-e38f-06f531840240"
      },
      "source": [
        "tf_dataset = tf_dataset.filter(lambda x: x>0)\n",
        "for sales in tf_dataset.as_numpy_iterator():\n",
        "    print(sales)"
      ],
      "execution_count": 8,
      "outputs": [
        {
          "output_type": "stream",
          "text": [
            "21\n",
            "22\n",
            "31\n",
            "32\n",
            "34\n",
            "31\n"
          ],
          "name": "stdout"
        }
      ]
    },
    {
      "cell_type": "code",
      "metadata": {
        "colab": {
          "base_uri": "https://localhost:8080/"
        },
        "id": "L9KINqSRkajJ",
        "outputId": "f96d96b2-fc85-4c37-897a-d2b3a18abfc8"
      },
      "source": [
        "tf_dataset=tf_dataset.map(lambda x:x*72)\n",
        "for sales in tf_dataset.as_numpy_iterator():\n",
        "    print(sales)"
      ],
      "execution_count": 10,
      "outputs": [
        {
          "output_type": "stream",
          "text": [
            "1512\n",
            "1584\n",
            "2232\n",
            "2304\n",
            "2448\n",
            "2232\n"
          ],
          "name": "stdout"
        }
      ]
    },
    {
      "cell_type": "code",
      "metadata": {
        "colab": {
          "base_uri": "https://localhost:8080/"
        },
        "id": "bDCtDA2-ksIB",
        "outputId": "fe221184-5349-4bcf-afe1-f8a2208ee21a"
      },
      "source": [
        "tf_dataset=tf_dataset.shuffle(2)\n",
        "for sales in tf_dataset.as_numpy_iterator():\n",
        "    print(sales)"
      ],
      "execution_count": 11,
      "outputs": [
        {
          "output_type": "stream",
          "text": [
            "1512\n",
            "1584\n",
            "2232\n",
            "2304\n",
            "2448\n",
            "2232\n"
          ],
          "name": "stdout"
        }
      ]
    },
    {
      "cell_type": "markdown",
      "metadata": {
        "id": "UE728j6ClIRY"
      },
      "source": [
        "https://stackoverflow.com/questions/53514495/what-does-batch-repeat-and-shuffle-do-with-tensorflow-dataset\n",
        "\n",
        "## **Batching**\n"
      ]
    },
    {
      "cell_type": "code",
      "metadata": {
        "colab": {
          "base_uri": "https://localhost:8080/"
        },
        "id": "nmxamjjNlGt3",
        "outputId": "c287537a-2805-4642-9080-6718b6672088"
      },
      "source": [
        "\n",
        "for sales_batch in tf_dataset.batch(2):\n",
        "    print(sales_batch.numpy())"
      ],
      "execution_count": 12,
      "outputs": [
        {
          "output_type": "stream",
          "text": [
            "[1512 2232]\n",
            "[2304 1584]\n",
            "[2232 2448]\n"
          ],
          "name": "stdout"
        }
      ]
    },
    {
      "cell_type": "markdown",
      "metadata": {
        "id": "YtnVyKRalQsN"
      },
      "source": [
        "## **Perform all of the above operations in one shot**"
      ]
    },
    {
      "cell_type": "code",
      "metadata": {
        "colab": {
          "base_uri": "https://localhost:8080/"
        },
        "id": "ZLpV1lR3k3ly",
        "outputId": "a8967207-3505-478b-b5ac-bbb31d02b0bd"
      },
      "source": [
        "tf_dataset = tf.data.Dataset.from_tensor_slices(daily_sales_numbers)\n",
        "\n",
        "tf_dataset = tf_dataset.filter(lambda x: x>0).map(lambda y: y*72).shuffle(2).batch(2)\n",
        "for sales in tf_dataset.as_numpy_iterator():\n",
        "    print(sales)"
      ],
      "execution_count": 13,
      "outputs": [
        {
          "output_type": "stream",
          "text": [
            "[1512 2232]\n",
            "[1584 2448]\n",
            "[2232 2304]\n"
          ],
          "name": "stdout"
        }
      ]
    },
    {
      "cell_type": "markdown",
      "metadata": {
        "id": "8q7CPPv_ldGh"
      },
      "source": [
        "\n",
        "## **Images**\n",
        "\n",
        "loading ramdonm images from my drive\n"
      ]
    },
    {
      "cell_type": "code",
      "metadata": {
        "id": "uS1FBZbpmijc"
      },
      "source": [
        "import zipfile\n",
        "\n",
        "local_zip = '/content/drive/MyDrive/Colab Notebooks/Intel_Img_Class.zip'\n",
        "zip_ref = zipfile.ZipFile(local_zip, 'r')\n",
        "zip_ref.extractall('/content')\n",
        "zip_ref.close()"
      ],
      "execution_count": 15,
      "outputs": []
    },
    {
      "cell_type": "code",
      "metadata": {
        "id": "nGgJo1wClYnz"
      },
      "source": [
        "images_ds = tf.data.Dataset.list_files('/content/seg_test/seg_test/*/*', shuffle=False)"
      ],
      "execution_count": 16,
      "outputs": []
    },
    {
      "cell_type": "code",
      "metadata": {
        "colab": {
          "base_uri": "https://localhost:8080/"
        },
        "id": "IumPQsGNl2aJ",
        "outputId": "81c8bfac-9a17-45c2-9a84-94d72b4a4d63"
      },
      "source": [
        "image_count = len(images_ds)\n",
        "image_count"
      ],
      "execution_count": 17,
      "outputs": [
        {
          "output_type": "execute_result",
          "data": {
            "text/plain": [
              "3000"
            ]
          },
          "metadata": {
            "tags": []
          },
          "execution_count": 17
        }
      ]
    },
    {
      "cell_type": "code",
      "metadata": {
        "colab": {
          "base_uri": "https://localhost:8080/"
        },
        "id": "WmCS335HoOqF",
        "outputId": "eb5de333-ca72-4186-df99-a06db889d4ce"
      },
      "source": [
        "type(images_ds)"
      ],
      "execution_count": 18,
      "outputs": [
        {
          "output_type": "execute_result",
          "data": {
            "text/plain": [
              "tensorflow.python.data.ops.dataset_ops.TensorSliceDataset"
            ]
          },
          "metadata": {
            "tags": []
          },
          "execution_count": 18
        }
      ]
    },
    {
      "cell_type": "code",
      "metadata": {
        "colab": {
          "base_uri": "https://localhost:8080/"
        },
        "id": "zn6gz9ffoRGx",
        "outputId": "656c8aef-caea-4b74-e728-0cf0edfbdbc7"
      },
      "source": [
        "for file in images_ds.take(5):\n",
        "    print(file.numpy())"
      ],
      "execution_count": 19,
      "outputs": [
        {
          "output_type": "stream",
          "text": [
            "b'/content/seg_test/seg_test/buildings/20057.jpg'\n",
            "b'/content/seg_test/seg_test/buildings/20060.jpg'\n",
            "b'/content/seg_test/seg_test/buildings/20061.jpg'\n",
            "b'/content/seg_test/seg_test/buildings/20064.jpg'\n",
            "b'/content/seg_test/seg_test/buildings/20073.jpg'\n"
          ],
          "name": "stdout"
        }
      ]
    },
    {
      "cell_type": "code",
      "metadata": {
        "id": "f_U98s0SoUz5"
      },
      "source": [
        "class_name= ['building', 'forest', 'glacier', 'mountain', 'sea', 'street']"
      ],
      "execution_count": 20,
      "outputs": []
    },
    {
      "cell_type": "code",
      "metadata": {
        "id": "l-ctHIRAprN1"
      },
      "source": [
        "#train test split \n",
        "train_size = int(image_count*0.8)\n",
        "train_ds = images_ds.take(train_size)\n",
        "test_ds = images_ds.skip(train_size)\n",
        "#shuffles data automatically "
      ],
      "execution_count": 22,
      "outputs": []
    },
    {
      "cell_type": "code",
      "metadata": {
        "colab": {
          "base_uri": "https://localhost:8080/"
        },
        "id": "bt8eCNuDp1EZ",
        "outputId": "7c785779-87be-44b6-ee93-99cb9ab5dbb9"
      },
      "source": [
        "len(train_ds),len(test_ds)"
      ],
      "execution_count": 23,
      "outputs": [
        {
          "output_type": "execute_result",
          "data": {
            "text/plain": [
              "(2400, 600)"
            ]
          },
          "metadata": {
            "tags": []
          },
          "execution_count": 23
        }
      ]
    },
    {
      "cell_type": "code",
      "metadata": {
        "id": "NUwZEua1p-ja"
      },
      "source": [
        "def get_label(file_path):\n",
        "    import os\n",
        "    parts = tf.strings.split(file_path, os.path.sep)\n",
        "    return parts[-2]"
      ],
      "execution_count": 24,
      "outputs": []
    },
    {
      "cell_type": "code",
      "metadata": {
        "colab": {
          "base_uri": "https://localhost:8080/"
        },
        "id": "z0MxJgAWqfLO",
        "outputId": "1567a9c3-0518-4568-d21b-68d405aa32ad"
      },
      "source": [
        "get_label(\"/content/seg_test/seg_test/buildings/20057.jpg\")"
      ],
      "execution_count": 25,
      "outputs": [
        {
          "output_type": "execute_result",
          "data": {
            "text/plain": [
              "<tf.Tensor: shape=(), dtype=string, numpy=b'buildings'>"
            ]
          },
          "metadata": {
            "tags": []
          },
          "execution_count": 25
        }
      ]
    },
    {
      "cell_type": "code",
      "metadata": {
        "id": "gKIJkz03qjZp"
      },
      "source": [
        "def process_image(file_path):\n",
        "    label = get_label(file_path)\n",
        "    img = tf.io.read_file(file_path) # load the raw data from the file as a string\n",
        "    img = tf.image.decode_jpeg(img)\n",
        "    img = tf.image.resize(img, [128, 128])\n",
        "    return img, label"
      ],
      "execution_count": 26,
      "outputs": []
    },
    {
      "cell_type": "code",
      "metadata": {
        "colab": {
          "base_uri": "https://localhost:8080/"
        },
        "id": "7RMC1k5frvYG",
        "outputId": "77778a06-09a1-4467-f8db-8394624c5303"
      },
      "source": [
        "img, label = process_image(\"/content/seg_test/seg_test/buildings/20057.jpg\")\n",
        "img.numpy()[:2]"
      ],
      "execution_count": 27,
      "outputs": [
        {
          "output_type": "execute_result",
          "data": {
            "text/plain": [
              "array([[[ 87.822815, 114.72211 , 168.54114 ],\n",
              "        [109.29944 , 134.8919  , 181.20837 ],\n",
              "        [133.5661  , 157.97662 , 191.97375 ],\n",
              "        [198.14099 , 218.3772  , 237.36456 ],\n",
              "        [225.05127 , 240.71149 , 247.92242 ],\n",
              "        [197.11987 , 208.17615 , 214.04962 ],\n",
              "        [222.98334 , 231.13855 , 238.22656 ],\n",
              "        [237.76825 , 241.11841 , 250.50824 ],\n",
              "        [198.02197 , 203.32556 , 212.46729 ],\n",
              "        [184.91895 , 193.64551 , 196.53583 ],\n",
              "        [232.16357 , 242.13    , 243.14679 ],\n",
              "        [222.78705 , 235.46497 , 244.27747 ],\n",
              "        [138.28766 , 147.49652 , 177.0434  ],\n",
              "        [128.4674  , 137.47559 , 169.27655 ],\n",
              "        [179.37366 , 186.90948 , 209.33325 ],\n",
              "        [198.78497 , 206.12091 , 223.12872 ],\n",
              "        [211.77972 , 219.61566 , 231.43597 ],\n",
              "        [226.00201 , 233.00781 , 240.96942 ],\n",
              "        [225.883   , 232.78851 , 236.1875  ],\n",
              "        [222.39484 , 225.80212 , 229.98755 ],\n",
              "        [223.07977 , 225.50946 , 229.55634 ],\n",
              "        [232.01099 , 233.01099 , 238.01099 ],\n",
              "        [235.92908 , 236.92908 , 241.92908 ],\n",
              "        [230.13281 , 231.13281 , 236.09375 ],\n",
              "        [230.805   , 231.805   , 235.805   ],\n",
              "        [238.41241 , 239.41241 , 242.64679 ],\n",
              "        [238.05469 , 240.71875 , 242.16406 ],\n",
              "        [237.46857 , 241.46857 , 241.14032 ],\n",
              "        [236.21185 , 242.00873 , 240.12775 ],\n",
              "        [234.92365 , 238.92365 , 239.92365 ],\n",
              "        [233.91406 , 237.1875  , 238.91406 ],\n",
              "        [232.70746 , 233.70746 , 237.70746 ],\n",
              "        [229.24219 , 230.24219 , 234.82812 ],\n",
              "        [225.85681 , 226.85681 , 231.85681 ],\n",
              "        [224.0824  , 226.94177 , 233.80115 ],\n",
              "        [227.74036 , 230.94348 , 237.84192 ],\n",
              "        [228.23444 , 233.23444 , 239.18744 ],\n",
              "        [228.01562 , 233.01562 , 238.02966 ],\n",
              "        [228.16528 , 233.16528 , 237.16528 ],\n",
              "        [223.51874 , 228.51874 , 232.51874 ],\n",
              "        [216.19525 , 221.03009 , 225.11267 ],\n",
              "        [213.59131 , 214.18567 , 222.31488 ],\n",
              "        [208.89062 , 213.74493 , 226.02936 ],\n",
              "        [205.8208  , 213.77393 , 229.29736 ],\n",
              "        [210.27344 , 217.97656 , 227.25208 ],\n",
              "        [219.76654 , 224.3056  , 224.73529 ],\n",
              "        [237.73126 , 240.65381 , 233.87256 ],\n",
              "        [245.26215 , 246.48395 , 239.862   ],\n",
              "        [229.1831  , 231.85565 , 234.6264  ],\n",
              "        [208.72412 , 215.94287 , 234.55896 ],\n",
              "        [141.67072 , 157.84296 , 194.89392 ],\n",
              "        [102.13458 , 131.35333 , 183.54657 ],\n",
              "        [ 90.15271 , 131.2699  , 187.1333  ],\n",
              "        [ 86.61572 , 132.97278 , 182.38019 ],\n",
              "        [ 91.43994 , 138.86932 , 184.39276 ],\n",
              "        [ 95.43695 , 142.17914 , 187.51508 ],\n",
              "        [100.51404 , 143.88483 , 198.4906  ],\n",
              "        [107.64862 , 147.883   , 208.53143 ],\n",
              "        [102.31708 , 138.57489 , 198.38898 ],\n",
              "        [107.72333 , 144.82898 , 203.5362  ],\n",
              "        [109.18799 , 149.95062 , 210.24335 ],\n",
              "        [110.66193 , 150.76703 , 212.75989 ],\n",
              "        [109.20044 , 147.6875  , 211.2514  ],\n",
              "        [112.41394 , 147.07758 , 209.69519 ],\n",
              "        [113.11481 , 148.34875 , 203.9942  ],\n",
              "        [118.9892  , 155.14288 , 198.23407 ],\n",
              "        [117.17645 , 145.05072 , 175.8888  ],\n",
              "        [ 87.28851 , 102.5824  , 119.99231 ],\n",
              "        [130.66254 , 133.38934 , 135.6784  ],\n",
              "        [150.31683 , 146.54028 , 138.00897 ],\n",
              "        [132.81287 , 128.81287 , 117.98474 ],\n",
              "        [130.74158 , 126.74158 , 115.59955 ],\n",
              "        [137.23285 , 133.23285 , 122.66199 ],\n",
              "        [147.65375 , 143.59937 , 138.34186 ],\n",
              "        [160.45648 , 156.4397  , 154.89398 ],\n",
              "        [129.16223 , 125.246155, 123.90643 ],\n",
              "        [117.425354, 114.4126  , 109.43811 ],\n",
              "        [137.25781 , 134.1994  , 128.14508 ],\n",
              "        [143.41272 , 140.86261 , 130.7721  ],\n",
              "        [145.42383 , 143.33789 , 131.65344 ],\n",
              "        [164.36548 , 160.75134 , 156.02972 ],\n",
              "        [153.10913 , 153.04797 , 152.75757 ],\n",
              "        [115.67456 , 118.7605  , 124.947266],\n",
              "        [158.82794 , 160.47742 , 162.90503 ],\n",
              "        [150.31396 , 146.2633  , 142.16956 ],\n",
              "        [158.42004 , 148.81067 , 144.02203 ],\n",
              "        [157.8678  , 148.625   , 143.57452 ],\n",
              "        [164.02051 , 158.3341  , 157.91895 ],\n",
              "        [123.33649 , 124.28711 , 121.67523 ],\n",
              "        [ 78.50397 ,  82.28235 ,  77.67462 ],\n",
              "        [ 94.489746,  93.24756 ,  89.18506 ],\n",
              "        [137.54352 , 130.84808 , 127.73865 ],\n",
              "        [164.91138 , 157.01477 , 153.62    ],\n",
              "        [134.20581 , 132.97675 , 134.41498 ],\n",
              "        [ 84.4187  ,  93.94214 , 108.77289 ],\n",
              "        [ 72.83087 ,  88.522705, 112.213684],\n",
              "        [ 94.538025, 113.10919 , 140.36615 ],\n",
              "        [108.34595 , 125.25226 , 151.27826 ],\n",
              "        [115.815735, 132.66553 , 158.40771 ],\n",
              "        [128.18848 , 149.28821 , 176.41046 ],\n",
              "        [132.04681 , 153.42181 , 185.29688 ],\n",
              "        [139.87183 , 161.62183 , 200.30933 ],\n",
              "        [130.88531 , 169.91821 , 218.25537 ],\n",
              "        [113.447205, 166.41595 , 221.48627 ],\n",
              "        [111.42407 , 158.64056 , 212.55017 ],\n",
              "        [140.96985 , 186.08221 , 238.42236 ],\n",
              "        [120.05701 , 160.44763 , 215.3617  ],\n",
              "        [117.6413  , 152.51605 , 211.85791 ],\n",
              "        [112.29114 , 143.2276  , 206.43854 ],\n",
              "        [110.0069  , 145.36627 , 205.99908 ],\n",
              "        [105.772095, 145.74286 , 204.75    ],\n",
              "        [103.67816 , 143.97809 , 203.15625 ],\n",
              "        [103.55707 , 145.107   , 207.06421 ],\n",
              "        [103.85614 , 146.37958 , 211.6153  ],\n",
              "        [101.6131  , 146.23438 , 210.94568 ],\n",
              "        [100.92682 , 145.0625  , 208.16199 ],\n",
              "        [104.89441 , 143.89062 , 210.39667 ],\n",
              "        [108.420715, 142.91406 , 205.42535 ],\n",
              "        [111.57031 , 142.91406 , 199.26562 ],\n",
              "        [112.109375, 142.96039 , 200.60266 ],\n",
              "        [109.848755, 144.42188 , 204.3111  ],\n",
              "        [107.128296, 146.68976 , 208.36945 ],\n",
              "        [104.28589 , 148.77814 , 207.85468 ],\n",
              "        [107.74219 , 148.14062 , 206.375   ],\n",
              "        [107.77643 , 148.87982 , 204.82812 ],\n",
              "        [108.300415, 149.39844 , 205.34943 ],\n",
              "        [108.78381 , 149.08594 , 207.29034 ],\n",
              "        [108.74957 , 148.90668 , 207.82812 ]],\n",
              "\n",
              "       [[ 95.921936, 122.170654, 164.87646 ],\n",
              "        [145.81854 , 169.36133 , 209.31891 ],\n",
              "        [122.6142  , 144.29388 , 178.09637 ],\n",
              "        [123.17084 , 141.04352 , 163.10138 ],\n",
              "        [197.62994 , 212.36804 , 222.69617 ],\n",
              "        [230.61462 , 239.41302 , 244.83661 ],\n",
              "        [230.90302 , 237.12646 , 242.32336 ],\n",
              "        [244.9513  , 249.06006 , 254.03119 ],\n",
              "        [229.40625 , 233.49054 , 241.62665 ],\n",
              "        [227.7367  , 233.95636 , 237.84607 ],\n",
              "        [240.75781 , 249.80121 , 251.51215 ],\n",
              "        [227.39874 , 237.13489 , 245.45593 ],\n",
              "        [165.98529 , 175.3595  , 199.62671 ],\n",
              "        [159.56128 , 168.06573 , 194.77106 ],\n",
              "        [181.6449  , 189.518   , 209.89868 ],\n",
              "        [196.79443 , 203.87256 , 220.45135 ],\n",
              "        [205.93481 , 213.51294 , 225.03314 ],\n",
              "        [228.5935  , 235.06628 , 242.52344 ],\n",
              "        [229.86884 , 234.68915 , 238.50946 ],\n",
              "        [229.25635 , 233.25635 , 236.25635 ],\n",
              "        [234.7315  , 237.1612  , 241.07312 ],\n",
              "        [237.61108 , 238.61108 , 243.35327 ],\n",
              "        [238.06848 , 239.06848 , 244.03424 ],\n",
              "        [232.47656 , 233.47656 , 238.4375  ],\n",
              "        [232.40717 , 233.40717 , 237.40717 ],\n",
              "        [236.69324 , 237.69324 , 241.125   ],\n",
              "        [235.73914 , 238.4032  , 240.07812 ],\n",
              "        [237.18768 , 241.18768 , 242.18768 ],\n",
              "        [235.78906 , 241.58594 , 240.35388 ],\n",
              "        [234.08594 , 238.08594 , 239.60156 ],\n",
              "        [232.22656 , 235.5     , 237.67975 ],\n",
              "        [231.50519 , 232.50519 , 236.763   ],\n",
              "        [228.5755  , 229.87762 , 234.87244 ],\n",
              "        [226.46875 , 227.98438 , 233.5     ],\n",
              "        [224.15656 , 227.05219 , 233.46844 ],\n",
              "        [223.35663 , 226.55975 , 232.94257 ],\n",
              "        [222.36755 , 227.36755 , 232.44604 ],\n",
              "        [223.53192 , 228.3023  , 232.41711 ],\n",
              "        [226.36719 , 231.01068 , 234.95026 ],\n",
              "        [227.74371 , 232.4859  , 236.22809 ],\n",
              "        [228.54791 , 231.86371 , 236.31909 ],\n",
              "        [228.71161 , 229.68518 , 233.73022 ],\n",
              "        [228.92017 , 232.70184 , 241.59204 ],\n",
              "        [221.27985 , 228.97516 , 243.71307 ],\n",
              "        [222.00153 , 229.11249 , 239.89368 ],\n",
              "        [235.51562 , 239.70422 , 243.36993 ],\n",
              "        [246.92993 , 249.45514 , 246.04889 ],\n",
              "        [245.13306 , 247.56921 , 244.8518  ],\n",
              "        [249.31317 , 252.85089 , 254.31519 ],\n",
              "        [230.63214 , 240.19464 , 253.49243 ],\n",
              "        [159.12158 , 176.57025 , 210.89954 ],\n",
              "        [102.87726 , 132.6499  , 183.79834 ],\n",
              "        [ 92.286255, 133.38531 , 189.3097  ],\n",
              "        [ 93.93573 , 139.1623  , 191.40015 ],\n",
              "        [ 94.807434, 139.20496 , 188.50183 ],\n",
              "        [102.885315, 145.85406 , 194.82446 ],\n",
              "        [103.32745 , 145.4242  , 200.67963 ],\n",
              "        [102.15106 , 142.81042 , 202.71564 ],\n",
              "        [112.34851 , 152.12195 , 211.35156 ],\n",
              "        [108.713196, 148.59637 , 207.10492 ],\n",
              "        [106.184875, 146.32751 , 201.53265 ],\n",
              "        [111.61096 , 147.84595 , 195.92169 ],\n",
              "        [114.343506, 143.8399  , 184.53558 ],\n",
              "        [122.493164, 145.3487  , 182.70691 ],\n",
              "        [114.763855, 134.6076  , 167.7732  ],\n",
              "        [101.384155, 123.65387 , 153.50964 ],\n",
              "        [115.4668  , 133.62366 , 153.03632 ],\n",
              "        [101.753296, 111.6225  , 119.60339 ],\n",
              "        [114.46942 , 116.673645, 113.09326 ],\n",
              "        [140.74866 , 137.25171 , 128.42816 ],\n",
              "        [148.4259  , 144.16809 , 135.94153 ],\n",
              "        [146.3905  , 141.98364 , 133.328   ],\n",
              "        [135.27216 , 130.73639 , 121.709656],\n",
              "        [121.127075, 116.3996  , 110.52136 ],\n",
              "        [ 89.855225,  85.86737 ,  81.3266  ],\n",
              "        [122.17639 , 119.159   , 113.16254 ],\n",
              "        [143.71582 , 141.30255 , 136.09387 ],\n",
              "        [143.28894 , 140.0423  , 137.76324 ],\n",
              "        [151.14728 , 148.1513  , 144.22943 ],\n",
              "        [133.64575 , 130.55914 , 123.6087  ],\n",
              "        [147.02612 , 143.81061 , 135.78961 ],\n",
              "        [177.2492  , 176.02643 , 170.005   ],\n",
              "        [118.895935, 122.16882 , 121.76984 ],\n",
              "        [113.2865  , 115.37561 , 115.342834],\n",
              "        [151.60724 , 149.02911 , 144.43182 ],\n",
              "        [149.26715 , 142.00153 , 134.68988 ],\n",
              "        [141.86603 , 133.60522 , 125.38464 ],\n",
              "        [105.16528 ,  99.81598 ,  94.24896 ],\n",
              "        [122.25726 , 121.734436, 115.311035],\n",
              "        [156.92804 , 159.1546  , 151.57855 ],\n",
              "        [177.82068 , 177.14813 , 170.85669 ],\n",
              "        [143.11047 , 139.03198 , 133.68097 ],\n",
              "        [167.53949 , 161.7215  , 152.37543 ],\n",
              "        [117.03436 , 116.74811 , 112.32623 ],\n",
              "        [ 49.015076,  56.26526 ,  68.538574],\n",
              "        [ 52.44757 ,  65.97876 ,  86.21838 ],\n",
              "        [ 50.87744 ,  67.35663 ,  91.09357 ],\n",
              "        [ 41.101746,  57.539307,  79.39874 ],\n",
              "        [ 41.01935 ,  57.037476,  78.23279 ],\n",
              "        [ 35.565674,  54.45587 ,  76.494934],\n",
              "        [ 27.383911,  44.212036,  68.50818 ],\n",
              "        [ 36.378418,  53.35193 ,  84.71979 ],\n",
              "        [ 87.916504, 121.64099 , 166.29883 ],\n",
              "        [105.88019 , 153.59143 , 207.58453 ],\n",
              "        [107.193054, 152.08923 , 204.20642 ],\n",
              "        [105.59076 , 147.87799 , 200.78723 ],\n",
              "        [101.65015 , 142.19788 , 197.03339 ],\n",
              "        [105.862305, 143.36371 , 201.88928 ],\n",
              "        [109.25159 , 144.37347 , 206.3219  ],\n",
              "        [105.37158 , 143.65845 , 203.33087 ],\n",
              "        [102.7558  , 142.49219 , 201.49219 ],\n",
              "        [101.484375, 141.48438 , 201.15894 ],\n",
              "        [101.7337  , 142.24286 , 202.63013 ],\n",
              "        [101.98059 , 144.62689 , 205.1991  ],\n",
              "        [101.0625  , 144.62946 , 205.08374 ],\n",
              "        [100.11017 , 143.59454 , 203.8211  ],\n",
              "        [102.237915, 142.97656 , 203.17188 ],\n",
              "        [103.14581 , 141.94965 , 201.71619 ],\n",
              "        [104.9375  , 141.74219 , 199.19714 ],\n",
              "        [105.337585, 142.14227 , 199.45807 ],\n",
              "        [104.99097 , 143.90625 , 202.4339  ],\n",
              "        [105.16614 , 145.13959 , 205.4198  ],\n",
              "        [104.470276, 146.47028 , 205.87347 ],\n",
              "        [104.10974 , 146.45312 , 203.89026 ],\n",
              "        [104.31482 , 146.93085 , 202.84491 ],\n",
              "        [104.50922 , 147.05469 , 203.      ],\n",
              "        [105.453125, 146.74219 , 204.65253 ],\n",
              "        [104.81903 , 147.39844 , 205.22656 ]]], dtype=float32)"
            ]
          },
          "metadata": {
            "tags": []
          },
          "execution_count": 27
        }
      ]
    },
    {
      "cell_type": "code",
      "metadata": {
        "id": "O8gnUgDFryvQ"
      },
      "source": [
        "train_ds = train_ds.map(process_image) #returns multi list of image and label\n",
        "test_ds = test_ds.map(process_image)"
      ],
      "execution_count": 28,
      "outputs": []
    },
    {
      "cell_type": "code",
      "metadata": {
        "colab": {
          "base_uri": "https://localhost:8080/"
        },
        "id": "ephzzGeTr2yA",
        "outputId": "ef7026ad-03d4-4a16-b0ff-3d8e470b4214"
      },
      "source": [
        "for image, label in train_ds.take(1):\n",
        "    print(\"****\\n\",image)\n",
        "    print(\"****\\n\",label)"
      ],
      "execution_count": 30,
      "outputs": [
        {
          "output_type": "stream",
          "text": [
            "****\n",
            " tf.Tensor(\n",
            "[[[ 87.822815 114.72211  168.54114 ]\n",
            "  [109.29944  134.8919   181.20837 ]\n",
            "  [133.5661   157.97662  191.97375 ]\n",
            "  ...\n",
            "  [108.300415 149.39844  205.34943 ]\n",
            "  [108.78381  149.08594  207.29034 ]\n",
            "  [108.74957  148.90668  207.82812 ]]\n",
            "\n",
            " [[ 95.921936 122.170654 164.87646 ]\n",
            "  [145.81854  169.36133  209.31891 ]\n",
            "  [122.6142   144.29388  178.09637 ]\n",
            "  ...\n",
            "  [104.50922  147.05469  203.      ]\n",
            "  [105.453125 146.74219  204.65253 ]\n",
            "  [104.81903  147.39844  205.22656 ]]\n",
            "\n",
            " [[149.82391  173.79266  199.36652 ]\n",
            "  [153.19159  174.448    203.15955 ]\n",
            "  [137.45032  155.05682  186.86774 ]\n",
            "  ...\n",
            "  [101.060425 144.0362   201.71094 ]\n",
            "  [101.73578  144.17688  202.02985 ]\n",
            "  [101.09802  144.66193  202.14062 ]]\n",
            "\n",
            " ...\n",
            "\n",
            " [[197.28906  209.28906  224.33167 ]\n",
            "  [197.14203  209.14203  223.14203 ]\n",
            "  [196.28906  208.28906  222.28906 ]\n",
            "  ...\n",
            "  [222.65051  229.65051  239.65051 ]\n",
            "  [224.30609  231.30609  241.30609 ]\n",
            "  [226.01776  233.01776  243.01776 ]]\n",
            "\n",
            " [[194.51562  207.25781  223.8919  ]\n",
            "  [194.44916  207.19135  222.67572 ]\n",
            "  [194.14703  206.88922  222.3736  ]\n",
            "  ...\n",
            "  [222.07953  229.07953  239.07953 ]\n",
            "  [226.39471  233.39471  243.39471 ]\n",
            "  [230.43365  237.43365  247.43365 ]]\n",
            "\n",
            " [[191.33636  204.33636  221.32898 ]\n",
            "  [192.40753  205.40753  222.08594 ]\n",
            "  [193.87146  206.87146  222.87146 ]\n",
            "  ...\n",
            "  [221.31818  228.31818  238.31818 ]\n",
            "  [228.06775  235.06775  245.06775 ]\n",
            "  [233.48438  240.48438  250.48438 ]]], shape=(128, 128, 3), dtype=float32)\n",
            "****\n",
            " tf.Tensor(b'buildings', shape=(), dtype=string)\n"
          ],
          "name": "stdout"
        }
      ]
    },
    {
      "cell_type": "code",
      "metadata": {
        "id": "mkhzT5Orr6lw"
      },
      "source": [
        "def scale(image, label):\n",
        "    return image/255, label"
      ],
      "execution_count": 31,
      "outputs": []
    },
    {
      "cell_type": "code",
      "metadata": {
        "id": "6ZLCtr51sCdh"
      },
      "source": [
        "train_ds = train_ds.map(scale)"
      ],
      "execution_count": 32,
      "outputs": []
    },
    {
      "cell_type": "code",
      "metadata": {
        "colab": {
          "base_uri": "https://localhost:8080/"
        },
        "id": "Yy4dFRiGsKtx",
        "outputId": "a8653364-eda0-4e61-d656-b9831e1be693"
      },
      "source": [
        "for image, label in train_ds.take(5):\n",
        "    print(\"****Image: \",image.numpy()[0][0])\n",
        "    print(\"****Label: \",label.numpy())"
      ],
      "execution_count": 33,
      "outputs": [
        {
          "output_type": "stream",
          "text": [
            "****Image:  [0.3444032  0.4498906  0.66094565]\n",
            "****Label:  b'buildings'\n",
            "****Image:  [0.42521447 0.71541053 0.8676777 ]\n",
            "****Label:  b'buildings'\n",
            "****Image:  [0.88786596 0.9113954  0.9662973 ]\n",
            "****Label:  b'buildings'\n",
            "****Image:  [0.5637238  0.68137085 0.92450815]\n",
            "****Label:  b'buildings'\n",
            "****Image:  [0.1565547 0.317339  0.5683194]\n",
            "****Label:  b'buildings'\n"
          ],
          "name": "stdout"
        }
      ]
    },
    {
      "cell_type": "markdown",
      "metadata": {
        "id": "sjisYgDNudEj"
      },
      "source": [
        "# Again we can chain it like we did earlier."
      ]
    },
    {
      "cell_type": "code",
      "metadata": {
        "id": "pYb9arNLsRjC"
      },
      "source": [
        ""
      ],
      "execution_count": null,
      "outputs": []
    }
  ]
}