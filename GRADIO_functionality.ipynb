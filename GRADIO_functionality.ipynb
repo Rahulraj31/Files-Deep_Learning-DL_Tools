{
  "nbformat": 4,
  "nbformat_minor": 0,
  "metadata": {
    "colab": {
      "name": "GRADIO functionality.ipynb",
      "provenance": [],
      "collapsed_sections": [],
      "authorship_tag": "ABX9TyOPXjp1oIAdFlYS9lXKGVM0",
      "include_colab_link": true
    },
    "kernelspec": {
      "name": "python3",
      "display_name": "Python 3"
    },
    "language_info": {
      "name": "python"
    },
    "accelerator": "GPU"
  },
  "cells": [
    {
      "cell_type": "markdown",
      "metadata": {
        "id": "view-in-github",
        "colab_type": "text"
      },
      "source": [
        "<a href=\"https://colab.research.google.com/github/Rahulraj31/Files-Deep_Learning-DL_Tools/blob/main/GRADIO_functionality.ipynb\" target=\"_parent\"><img src=\"https://colab.research.google.com/assets/colab-badge.svg\" alt=\"Open In Colab\"/></a>"
      ]
    },
    {
      "cell_type": "markdown",
      "metadata": {
        "id": "pZlQlJ-CJF5e"
      },
      "source": [
        "#Gradio - Interfaces for your ML Models"
      ]
    },
    {
      "cell_type": "code",
      "metadata": {
        "colab": {
          "base_uri": "https://localhost:8080/"
        },
        "id": "p9gNAiOyCjkT",
        "outputId": "f2611846-628a-4de8-9ca9-1654dbd79db6"
      },
      "source": [
        "! pip install gradio "
      ],
      "execution_count": 1,
      "outputs": [
        {
          "output_type": "stream",
          "text": [
            "Collecting gradio\n",
            "\u001b[?25l  Downloading https://files.pythonhosted.org/packages/ce/65/22ed15392909f9738251fd99d637da7a64ae76c20fdb152e12dd0e6d0cc0/gradio-2.0.9-py3-none-any.whl (1.6MB)\n",
            "\r\u001b[K     |▏                               | 10kB 15.5MB/s eta 0:00:01\r\u001b[K     |▍                               | 20kB 22.7MB/s eta 0:00:01\r\u001b[K     |▋                               | 30kB 23.6MB/s eta 0:00:01\r\u001b[K     |▉                               | 40kB 17.2MB/s eta 0:00:01\r\u001b[K     |█                               | 51kB 8.7MB/s eta 0:00:01\r\u001b[K     |█▎                              | 61kB 7.9MB/s eta 0:00:01\r\u001b[K     |█▍                              | 71kB 8.8MB/s eta 0:00:01\r\u001b[K     |█▋                              | 81kB 9.8MB/s eta 0:00:01\r\u001b[K     |█▉                              | 92kB 10.3MB/s eta 0:00:01\r\u001b[K     |██                              | 102kB 8.4MB/s eta 0:00:01\r\u001b[K     |██▎                             | 112kB 8.4MB/s eta 0:00:01\r\u001b[K     |██▌                             | 122kB 8.4MB/s eta 0:00:01\r\u001b[K     |██▋                             | 133kB 8.4MB/s eta 0:00:01\r\u001b[K     |██▉                             | 143kB 8.4MB/s eta 0:00:01\r\u001b[K     |███                             | 153kB 8.4MB/s eta 0:00:01\r\u001b[K     |███▎                            | 163kB 8.4MB/s eta 0:00:01\r\u001b[K     |███▌                            | 174kB 8.4MB/s eta 0:00:01\r\u001b[K     |███▊                            | 184kB 8.4MB/s eta 0:00:01\r\u001b[K     |███▉                            | 194kB 8.4MB/s eta 0:00:01\r\u001b[K     |████                            | 204kB 8.4MB/s eta 0:00:01\r\u001b[K     |████▎                           | 215kB 8.4MB/s eta 0:00:01\r\u001b[K     |████▌                           | 225kB 8.4MB/s eta 0:00:01\r\u001b[K     |████▊                           | 235kB 8.4MB/s eta 0:00:01\r\u001b[K     |█████                           | 245kB 8.4MB/s eta 0:00:01\r\u001b[K     |█████                           | 256kB 8.4MB/s eta 0:00:01\r\u001b[K     |█████▎                          | 266kB 8.4MB/s eta 0:00:01\r\u001b[K     |█████▌                          | 276kB 8.4MB/s eta 0:00:01\r\u001b[K     |█████▊                          | 286kB 8.4MB/s eta 0:00:01\r\u001b[K     |██████                          | 296kB 8.4MB/s eta 0:00:01\r\u001b[K     |██████▏                         | 307kB 8.4MB/s eta 0:00:01\r\u001b[K     |██████▎                         | 317kB 8.4MB/s eta 0:00:01\r\u001b[K     |██████▌                         | 327kB 8.4MB/s eta 0:00:01\r\u001b[K     |██████▊                         | 337kB 8.4MB/s eta 0:00:01\r\u001b[K     |███████                         | 348kB 8.4MB/s eta 0:00:01\r\u001b[K     |███████▏                        | 358kB 8.4MB/s eta 0:00:01\r\u001b[K     |███████▍                        | 368kB 8.4MB/s eta 0:00:01\r\u001b[K     |███████▌                        | 378kB 8.4MB/s eta 0:00:01\r\u001b[K     |███████▊                        | 389kB 8.4MB/s eta 0:00:01\r\u001b[K     |████████                        | 399kB 8.4MB/s eta 0:00:01\r\u001b[K     |████████▏                       | 409kB 8.4MB/s eta 0:00:01\r\u001b[K     |████████▍                       | 419kB 8.4MB/s eta 0:00:01\r\u001b[K     |████████▋                       | 430kB 8.4MB/s eta 0:00:01\r\u001b[K     |████████▊                       | 440kB 8.4MB/s eta 0:00:01\r\u001b[K     |█████████                       | 450kB 8.4MB/s eta 0:00:01\r\u001b[K     |█████████▏                      | 460kB 8.4MB/s eta 0:00:01\r\u001b[K     |█████████▍                      | 471kB 8.4MB/s eta 0:00:01\r\u001b[K     |█████████▋                      | 481kB 8.4MB/s eta 0:00:01\r\u001b[K     |█████████▉                      | 491kB 8.4MB/s eta 0:00:01\r\u001b[K     |██████████                      | 501kB 8.4MB/s eta 0:00:01\r\u001b[K     |██████████▏                     | 512kB 8.4MB/s eta 0:00:01\r\u001b[K     |██████████▍                     | 522kB 8.4MB/s eta 0:00:01\r\u001b[K     |██████████▋                     | 532kB 8.4MB/s eta 0:00:01\r\u001b[K     |██████████▉                     | 542kB 8.4MB/s eta 0:00:01\r\u001b[K     |███████████                     | 552kB 8.4MB/s eta 0:00:01\r\u001b[K     |███████████▎                    | 563kB 8.4MB/s eta 0:00:01\r\u001b[K     |███████████▍                    | 573kB 8.4MB/s eta 0:00:01\r\u001b[K     |███████████▋                    | 583kB 8.4MB/s eta 0:00:01\r\u001b[K     |███████████▉                    | 593kB 8.4MB/s eta 0:00:01\r\u001b[K     |████████████                    | 604kB 8.4MB/s eta 0:00:01\r\u001b[K     |████████████▎                   | 614kB 8.4MB/s eta 0:00:01\r\u001b[K     |████████████▌                   | 624kB 8.4MB/s eta 0:00:01\r\u001b[K     |████████████▋                   | 634kB 8.4MB/s eta 0:00:01\r\u001b[K     |████████████▉                   | 645kB 8.4MB/s eta 0:00:01\r\u001b[K     |█████████████                   | 655kB 8.4MB/s eta 0:00:01\r\u001b[K     |█████████████▎                  | 665kB 8.4MB/s eta 0:00:01\r\u001b[K     |█████████████▌                  | 675kB 8.4MB/s eta 0:00:01\r\u001b[K     |█████████████▊                  | 686kB 8.4MB/s eta 0:00:01\r\u001b[K     |█████████████▉                  | 696kB 8.4MB/s eta 0:00:01\r\u001b[K     |██████████████                  | 706kB 8.4MB/s eta 0:00:01\r\u001b[K     |██████████████▎                 | 716kB 8.4MB/s eta 0:00:01\r\u001b[K     |██████████████▌                 | 727kB 8.4MB/s eta 0:00:01\r\u001b[K     |██████████████▊                 | 737kB 8.4MB/s eta 0:00:01\r\u001b[K     |███████████████                 | 747kB 8.4MB/s eta 0:00:01\r\u001b[K     |███████████████                 | 757kB 8.4MB/s eta 0:00:01\r\u001b[K     |███████████████▎                | 768kB 8.4MB/s eta 0:00:01\r\u001b[K     |███████████████▌                | 778kB 8.4MB/s eta 0:00:01\r\u001b[K     |███████████████▊                | 788kB 8.4MB/s eta 0:00:01\r\u001b[K     |████████████████                | 798kB 8.4MB/s eta 0:00:01\r\u001b[K     |████████████████▏               | 808kB 8.4MB/s eta 0:00:01\r\u001b[K     |████████████████▎               | 819kB 8.4MB/s eta 0:00:01\r\u001b[K     |████████████████▌               | 829kB 8.4MB/s eta 0:00:01\r\u001b[K     |████████████████▊               | 839kB 8.4MB/s eta 0:00:01\r\u001b[K     |█████████████████               | 849kB 8.4MB/s eta 0:00:01\r\u001b[K     |█████████████████▏              | 860kB 8.4MB/s eta 0:00:01\r\u001b[K     |█████████████████▍              | 870kB 8.4MB/s eta 0:00:01\r\u001b[K     |█████████████████▌              | 880kB 8.4MB/s eta 0:00:01\r\u001b[K     |█████████████████▊              | 890kB 8.4MB/s eta 0:00:01\r\u001b[K     |██████████████████              | 901kB 8.4MB/s eta 0:00:01\r\u001b[K     |██████████████████▏             | 911kB 8.4MB/s eta 0:00:01\r\u001b[K     |██████████████████▍             | 921kB 8.4MB/s eta 0:00:01\r\u001b[K     |██████████████████▋             | 931kB 8.4MB/s eta 0:00:01\r\u001b[K     |██████████████████▉             | 942kB 8.4MB/s eta 0:00:01\r\u001b[K     |███████████████████             | 952kB 8.4MB/s eta 0:00:01\r\u001b[K     |███████████████████▏            | 962kB 8.4MB/s eta 0:00:01\r\u001b[K     |███████████████████▍            | 972kB 8.4MB/s eta 0:00:01\r\u001b[K     |███████████████████▋            | 983kB 8.4MB/s eta 0:00:01\r\u001b[K     |███████████████████▉            | 993kB 8.4MB/s eta 0:00:01\r\u001b[K     |████████████████████            | 1.0MB 8.4MB/s eta 0:00:01\r\u001b[K     |████████████████████▏           | 1.0MB 8.4MB/s eta 0:00:01\r\u001b[K     |████████████████████▍           | 1.0MB 8.4MB/s eta 0:00:01\r\u001b[K     |████████████████████▋           | 1.0MB 8.4MB/s eta 0:00:01\r\u001b[K     |████████████████████▉           | 1.0MB 8.4MB/s eta 0:00:01\r\u001b[K     |█████████████████████           | 1.1MB 8.4MB/s eta 0:00:01\r\u001b[K     |█████████████████████▎          | 1.1MB 8.4MB/s eta 0:00:01\r\u001b[K     |█████████████████████▍          | 1.1MB 8.4MB/s eta 0:00:01\r\u001b[K     |█████████████████████▋          | 1.1MB 8.4MB/s eta 0:00:01\r\u001b[K     |█████████████████████▉          | 1.1MB 8.4MB/s eta 0:00:01\r\u001b[K     |██████████████████████          | 1.1MB 8.4MB/s eta 0:00:01\r\u001b[K     |██████████████████████▎         | 1.1MB 8.4MB/s eta 0:00:01\r\u001b[K     |██████████████████████▌         | 1.1MB 8.4MB/s eta 0:00:01\r\u001b[K     |██████████████████████▋         | 1.1MB 8.4MB/s eta 0:00:01\r\u001b[K     |██████████████████████▉         | 1.1MB 8.4MB/s eta 0:00:01\r\u001b[K     |███████████████████████         | 1.2MB 8.4MB/s eta 0:00:01\r\u001b[K     |███████████████████████▎        | 1.2MB 8.4MB/s eta 0:00:01\r\u001b[K     |███████████████████████▌        | 1.2MB 8.4MB/s eta 0:00:01\r\u001b[K     |███████████████████████▊        | 1.2MB 8.4MB/s eta 0:00:01\r\u001b[K     |███████████████████████▉        | 1.2MB 8.4MB/s eta 0:00:01\r\u001b[K     |████████████████████████        | 1.2MB 8.4MB/s eta 0:00:01\r\u001b[K     |████████████████████████▎       | 1.2MB 8.4MB/s eta 0:00:01\r\u001b[K     |████████████████████████▌       | 1.2MB 8.4MB/s eta 0:00:01\r\u001b[K     |████████████████████████▊       | 1.2MB 8.4MB/s eta 0:00:01\r\u001b[K     |█████████████████████████       | 1.2MB 8.4MB/s eta 0:00:01\r\u001b[K     |█████████████████████████       | 1.3MB 8.4MB/s eta 0:00:01\r\u001b[K     |█████████████████████████▎      | 1.3MB 8.4MB/s eta 0:00:01\r\u001b[K     |█████████████████████████▌      | 1.3MB 8.4MB/s eta 0:00:01\r\u001b[K     |█████████████████████████▊      | 1.3MB 8.4MB/s eta 0:00:01\r\u001b[K     |██████████████████████████      | 1.3MB 8.4MB/s eta 0:00:01\r\u001b[K     |██████████████████████████▏     | 1.3MB 8.4MB/s eta 0:00:01\r\u001b[K     |██████████████████████████▎     | 1.3MB 8.4MB/s eta 0:00:01\r\u001b[K     |██████████████████████████▌     | 1.3MB 8.4MB/s eta 0:00:01\r\u001b[K     |██████████████████████████▊     | 1.3MB 8.4MB/s eta 0:00:01\r\u001b[K     |███████████████████████████     | 1.4MB 8.4MB/s eta 0:00:01\r\u001b[K     |███████████████████████████▏    | 1.4MB 8.4MB/s eta 0:00:01\r\u001b[K     |███████████████████████████▍    | 1.4MB 8.4MB/s eta 0:00:01\r\u001b[K     |███████████████████████████▋    | 1.4MB 8.4MB/s eta 0:00:01\r\u001b[K     |███████████████████████████▊    | 1.4MB 8.4MB/s eta 0:00:01\r\u001b[K     |████████████████████████████    | 1.4MB 8.4MB/s eta 0:00:01\r\u001b[K     |████████████████████████████▏   | 1.4MB 8.4MB/s eta 0:00:01\r\u001b[K     |████████████████████████████▍   | 1.4MB 8.4MB/s eta 0:00:01\r\u001b[K     |████████████████████████████▋   | 1.4MB 8.4MB/s eta 0:00:01\r\u001b[K     |████████████████████████████▉   | 1.4MB 8.4MB/s eta 0:00:01\r\u001b[K     |█████████████████████████████   | 1.5MB 8.4MB/s eta 0:00:01\r\u001b[K     |█████████████████████████████▏  | 1.5MB 8.4MB/s eta 0:00:01\r\u001b[K     |█████████████████████████████▍  | 1.5MB 8.4MB/s eta 0:00:01\r\u001b[K     |█████████████████████████████▋  | 1.5MB 8.4MB/s eta 0:00:01\r\u001b[K     |█████████████████████████████▉  | 1.5MB 8.4MB/s eta 0:00:01\r\u001b[K     |██████████████████████████████  | 1.5MB 8.4MB/s eta 0:00:01\r\u001b[K     |██████████████████████████████▏ | 1.5MB 8.4MB/s eta 0:00:01\r\u001b[K     |██████████████████████████████▍ | 1.5MB 8.4MB/s eta 0:00:01\r\u001b[K     |██████████████████████████████▋ | 1.5MB 8.4MB/s eta 0:00:01\r\u001b[K     |██████████████████████████████▉ | 1.5MB 8.4MB/s eta 0:00:01\r\u001b[K     |███████████████████████████████ | 1.6MB 8.4MB/s eta 0:00:01\r\u001b[K     |███████████████████████████████▎| 1.6MB 8.4MB/s eta 0:00:01\r\u001b[K     |███████████████████████████████▍| 1.6MB 8.4MB/s eta 0:00:01\r\u001b[K     |███████████████████████████████▋| 1.6MB 8.4MB/s eta 0:00:01\r\u001b[K     |███████████████████████████████▉| 1.6MB 8.4MB/s eta 0:00:01\r\u001b[K     |████████████████████████████████| 1.6MB 8.4MB/s \n",
            "\u001b[?25hCollecting flask-cachebuster\n",
            "  Downloading https://files.pythonhosted.org/packages/74/47/f3e1fedfaad965c81c2f17234636d72f71450f1b4522ca26d2b7eb4a0a74/Flask-CacheBuster-1.0.0.tar.gz\n",
            "Requirement already satisfied: numpy in /usr/local/lib/python3.7/dist-packages (from gradio) (1.19.5)\n",
            "Requirement already satisfied: Flask>=1.1.1 in /usr/local/lib/python3.7/dist-packages (from gradio) (1.1.4)\n",
            "Collecting Flask-Login\n",
            "  Downloading https://files.pythonhosted.org/packages/2b/83/ac5bf3279f969704fc1e63f050c50e10985e50fd340e6069ec7e09df5442/Flask_Login-0.5.0-py2.py3-none-any.whl\n",
            "Collecting analytics-python\n",
            "  Downloading https://files.pythonhosted.org/packages/30/81/2f447982f8d5dec5b56c10ca9ac53e5de2b2e9e2bdf7e091a05731f21379/analytics_python-1.3.1-py2.py3-none-any.whl\n",
            "Collecting ffmpy\n",
            "  Downloading https://files.pythonhosted.org/packages/bf/e2/947df4b3d666bfdd2b0c6355d215c45d2d40f929451cb29a8a2995b29788/ffmpy-0.3.0.tar.gz\n",
            "Requirement already satisfied: scipy in /usr/local/lib/python3.7/dist-packages (from gradio) (1.4.1)\n",
            "Requirement already satisfied: pillow in /usr/local/lib/python3.7/dist-packages (from gradio) (7.1.2)\n",
            "Collecting markdown2\n",
            "  Downloading https://files.pythonhosted.org/packages/5d/be/3924cc1c0e12030b5225de2b4521f1dc729730773861475de26be64a0d2b/markdown2-2.4.0-py2.py3-none-any.whl\n",
            "Requirement already satisfied: requests in /usr/local/lib/python3.7/dist-packages (from gradio) (2.23.0)\n",
            "Collecting pycryptodome\n",
            "\u001b[?25l  Downloading https://files.pythonhosted.org/packages/ad/16/9627ab0493894a11c68e46000dbcc82f578c8ff06bc2980dcd016aea9bd3/pycryptodome-3.10.1-cp35-abi3-manylinux2010_x86_64.whl (1.9MB)\n",
            "\u001b[K     |████████████████████████████████| 1.9MB 53.1MB/s \n",
            "\u001b[?25hCollecting paramiko\n",
            "\u001b[?25l  Downloading https://files.pythonhosted.org/packages/95/19/124e9287b43e6ff3ebb9cdea3e5e8e88475a873c05ccdf8b7e20d2c4201e/paramiko-2.7.2-py2.py3-none-any.whl (206kB)\n",
            "\u001b[K     |████████████████████████████████| 215kB 46.9MB/s \n",
            "\u001b[?25hRequirement already satisfied: pandas in /usr/local/lib/python3.7/dist-packages (from gradio) (1.1.5)\n",
            "Collecting Flask-Cors>=3.0.8\n",
            "  Downloading https://files.pythonhosted.org/packages/db/84/901e700de86604b1c4ef4b57110d4e947c218b9997adf5d38fa7da493bce/Flask_Cors-3.0.10-py2.py3-none-any.whl\n",
            "Requirement already satisfied: matplotlib in /usr/local/lib/python3.7/dist-packages (from gradio) (3.2.2)\n",
            "Requirement already satisfied: Werkzeug<2.0,>=0.15 in /usr/local/lib/python3.7/dist-packages (from Flask>=1.1.1->gradio) (1.0.1)\n",
            "Requirement already satisfied: Jinja2<3.0,>=2.10.1 in /usr/local/lib/python3.7/dist-packages (from Flask>=1.1.1->gradio) (2.11.3)\n",
            "Requirement already satisfied: click<8.0,>=5.1 in /usr/local/lib/python3.7/dist-packages (from Flask>=1.1.1->gradio) (7.1.2)\n",
            "Requirement already satisfied: itsdangerous<2.0,>=0.24 in /usr/local/lib/python3.7/dist-packages (from Flask>=1.1.1->gradio) (1.1.0)\n",
            "Requirement already satisfied: python-dateutil>2.1 in /usr/local/lib/python3.7/dist-packages (from analytics-python->gradio) (2.8.1)\n",
            "Collecting monotonic>=1.5\n",
            "  Downloading https://files.pythonhosted.org/packages/9a/67/7e8406a29b6c45be7af7740456f7f37025f0506ae2e05fb9009a53946860/monotonic-1.6-py2.py3-none-any.whl\n",
            "Requirement already satisfied: six>=1.5 in /usr/local/lib/python3.7/dist-packages (from analytics-python->gradio) (1.15.0)\n",
            "Collecting backoff==1.10.0\n",
            "  Downloading https://files.pythonhosted.org/packages/f0/32/c5dd4f4b0746e9ec05ace2a5045c1fc375ae67ee94355344ad6c7005fd87/backoff-1.10.0-py2.py3-none-any.whl\n",
            "Requirement already satisfied: urllib3!=1.25.0,!=1.25.1,<1.26,>=1.21.1 in /usr/local/lib/python3.7/dist-packages (from requests->gradio) (1.24.3)\n",
            "Requirement already satisfied: idna<3,>=2.5 in /usr/local/lib/python3.7/dist-packages (from requests->gradio) (2.10)\n",
            "Requirement already satisfied: chardet<4,>=3.0.2 in /usr/local/lib/python3.7/dist-packages (from requests->gradio) (3.0.4)\n",
            "Requirement already satisfied: certifi>=2017.4.17 in /usr/local/lib/python3.7/dist-packages (from requests->gradio) (2021.5.30)\n",
            "Collecting bcrypt>=3.1.3\n",
            "\u001b[?25l  Downloading https://files.pythonhosted.org/packages/26/70/6d218afbe4c73538053c1016dd631e8f25fffc10cd01f5c272d7acf3c03d/bcrypt-3.2.0-cp36-abi3-manylinux2010_x86_64.whl (63kB)\n",
            "\u001b[K     |████████████████████████████████| 71kB 11.0MB/s \n",
            "\u001b[?25hCollecting cryptography>=2.5\n",
            "\u001b[?25l  Downloading https://files.pythonhosted.org/packages/b2/26/7af637e6a7e87258b963f1731c5982fb31cd507f0d90d91836e446955d02/cryptography-3.4.7-cp36-abi3-manylinux2014_x86_64.whl (3.2MB)\n",
            "\u001b[K     |████████████████████████████████| 3.2MB 48.0MB/s \n",
            "\u001b[?25hCollecting pynacl>=1.0.1\n",
            "\u001b[?25l  Downloading https://files.pythonhosted.org/packages/9d/57/2f5e6226a674b2bcb6db531e8b383079b678df5b10cdaa610d6cf20d77ba/PyNaCl-1.4.0-cp35-abi3-manylinux1_x86_64.whl (961kB)\n",
            "\u001b[K     |████████████████████████████████| 962kB 35.3MB/s \n",
            "\u001b[?25hRequirement already satisfied: pytz>=2017.2 in /usr/local/lib/python3.7/dist-packages (from pandas->gradio) (2018.9)\n",
            "Requirement already satisfied: kiwisolver>=1.0.1 in /usr/local/lib/python3.7/dist-packages (from matplotlib->gradio) (1.3.1)\n",
            "Requirement already satisfied: cycler>=0.10 in /usr/local/lib/python3.7/dist-packages (from matplotlib->gradio) (0.10.0)\n",
            "Requirement already satisfied: pyparsing!=2.0.4,!=2.1.2,!=2.1.6,>=2.0.1 in /usr/local/lib/python3.7/dist-packages (from matplotlib->gradio) (2.4.7)\n",
            "Requirement already satisfied: MarkupSafe>=0.23 in /usr/local/lib/python3.7/dist-packages (from Jinja2<3.0,>=2.10.1->Flask>=1.1.1->gradio) (2.0.1)\n",
            "Requirement already satisfied: cffi>=1.1 in /usr/local/lib/python3.7/dist-packages (from bcrypt>=3.1.3->paramiko->gradio) (1.14.5)\n",
            "Requirement already satisfied: pycparser in /usr/local/lib/python3.7/dist-packages (from cffi>=1.1->bcrypt>=3.1.3->paramiko->gradio) (2.20)\n",
            "Building wheels for collected packages: flask-cachebuster, ffmpy\n",
            "  Building wheel for flask-cachebuster (setup.py) ... \u001b[?25l\u001b[?25hdone\n",
            "  Created wheel for flask-cachebuster: filename=Flask_CacheBuster-1.0.0-cp37-none-any.whl size=3372 sha256=4b4dae0dbc8a56008a49b669124100075b8b0b0f7bddbff09e2df160afd60510\n",
            "  Stored in directory: /root/.cache/pip/wheels/9f/fc/a7/ab5712c3ace9a8f97276465cc2937316ab8063c1fea488ea77\n",
            "  Building wheel for ffmpy (setup.py) ... \u001b[?25l\u001b[?25hdone\n",
            "  Created wheel for ffmpy: filename=ffmpy-0.3.0-cp37-none-any.whl size=4710 sha256=851e7859c67a665d3f2faca96259a305d8d16498e65fc36c7d55a6fdcd428d1e\n",
            "  Stored in directory: /root/.cache/pip/wheels/cc/ac/c4/bef572cb7e52bfca170046f567e64858632daf77e0f34e5a74\n",
            "Successfully built flask-cachebuster ffmpy\n",
            "Installing collected packages: flask-cachebuster, Flask-Login, monotonic, backoff, analytics-python, ffmpy, markdown2, pycryptodome, bcrypt, cryptography, pynacl, paramiko, Flask-Cors, gradio\n",
            "Successfully installed Flask-Cors-3.0.10 Flask-Login-0.5.0 analytics-python-1.3.1 backoff-1.10.0 bcrypt-3.2.0 cryptography-3.4.7 ffmpy-0.3.0 flask-cachebuster-1.0.0 gradio-2.0.9 markdown2-2.4.0 monotonic-1.6 paramiko-2.7.2 pycryptodome-3.10.1 pynacl-1.4.0\n"
          ],
          "name": "stdout"
        }
      ]
    },
    {
      "cell_type": "code",
      "metadata": {
        "id": "03SQ9uXMD7bb"
      },
      "source": [
        "import gradio as gr "
      ],
      "execution_count": 3,
      "outputs": []
    },
    {
      "cell_type": "code",
      "metadata": {
        "colab": {
          "base_uri": "https://localhost:8080/",
          "height": 658
        },
        "id": "00MxUunnFVpq",
        "outputId": "d3e49182-52f7-45a2-9311-e2ac9e0ffcef"
      },
      "source": [
        "def greet(name):\n",
        "  return \"hello \" + name + \"  !\"\n",
        "\n",
        "iface = gr.Interface(fn=greet, inputs=\"text\", outputs=\"text\")\n",
        "iface.launch()  "
      ],
      "execution_count": 6,
      "outputs": [
        {
          "output_type": "stream",
          "text": [
            "Colab notebook detected. To show errors in colab notebook, set `debug=True` in `launch()`\n",
            "This share link will expire in 24 hours. If you need a permanent link, visit: https://gradio.app/introducing-hosted (NEW!)\n",
            "Running on External URL: https://59390.gradio.app\n",
            "Interface loading below...\n"
          ],
          "name": "stdout"
        },
        {
          "output_type": "display_data",
          "data": {
            "text/html": [
              "\n",
              "        <iframe\n",
              "            width=\"900\"\n",
              "            height=\"500\"\n",
              "            src=\"https://59390.gradio.app\"\n",
              "            frameborder=\"0\"\n",
              "            allowfullscreen\n",
              "        ></iframe>\n",
              "        "
            ],
            "text/plain": [
              "<IPython.lib.display.IFrame at 0x7fd27ebbd0d0>"
            ]
          },
          "metadata": {
            "tags": []
          }
        },
        {
          "output_type": "execute_result",
          "data": {
            "text/plain": [
              "(<Flask 'gradio.networking'>,\n",
              " 'http://127.0.0.1:7861/',\n",
              " 'https://59390.gradio.app')"
            ]
          },
          "metadata": {
            "tags": []
          },
          "execution_count": 6
        }
      ]
    },
    {
      "cell_type": "code",
      "metadata": {
        "colab": {
          "base_uri": "https://localhost:8080/",
          "height": 692
        },
        "id": "2hJLcbywFqIp",
        "outputId": "3444a2d4-dd3a-4430-882d-e82136d31bc2"
      },
      "source": [
        "import gradio as gr\n",
        "import tensorflow as tf\n",
        "import numpy as np\n",
        "import requests\n",
        "\n",
        "inception_net = tf.keras.applications.InceptionV3() # load the model\n",
        "\n",
        "# Download human-readable labels for ImageNet.\n",
        "response = requests.get(\"https://git.io/JJkYN\")\n",
        "labels = response.text.split(\"\\n\")\n",
        "\n",
        "def classify_image(inp):\n",
        "  inp = inp.reshape((-1, 299, 299, 3))\n",
        "  inp = tf.keras.applications.inception_v3.preprocess_input(inp)\n",
        "  prediction = inception_net.predict(inp).flatten()\n",
        "  return {labels[i]: float(prediction[i]) for i in range(1000)}\n",
        "\n",
        "image = gr.inputs.Image(shape=(299, 299))\n",
        "label = gr.outputs.Label(num_top_classes=3)\n",
        "\n",
        "gr.Interface(fn=classify_image, inputs=image, outputs=label, capture_session=True).launch()"
      ],
      "execution_count": 7,
      "outputs": [
        {
          "output_type": "stream",
          "text": [
            "Downloading data from https://storage.googleapis.com/tensorflow/keras-applications/inception_v3/inception_v3_weights_tf_dim_ordering_tf_kernels.h5\n",
            "96116736/96112376 [==============================] - 1s 0us/step\n",
            "Colab notebook detected. To show errors in colab notebook, set `debug=True` in `launch()`\n",
            "This share link will expire in 24 hours. If you need a permanent link, visit: https://gradio.app/introducing-hosted (NEW!)\n",
            "Running on External URL: https://52493.gradio.app\n",
            "Interface loading below...\n"
          ],
          "name": "stdout"
        },
        {
          "output_type": "display_data",
          "data": {
            "text/html": [
              "\n",
              "        <iframe\n",
              "            width=\"900\"\n",
              "            height=\"500\"\n",
              "            src=\"https://52493.gradio.app\"\n",
              "            frameborder=\"0\"\n",
              "            allowfullscreen\n",
              "        ></iframe>\n",
              "        "
            ],
            "text/plain": [
              "<IPython.lib.display.IFrame at 0x7fd1de764bd0>"
            ]
          },
          "metadata": {
            "tags": []
          }
        },
        {
          "output_type": "execute_result",
          "data": {
            "text/plain": [
              "(<Flask 'gradio.networking'>,\n",
              " 'http://127.0.0.1:7862/',\n",
              " 'https://52493.gradio.app')"
            ]
          },
          "metadata": {
            "tags": []
          },
          "execution_count": 7
        }
      ]
    }
  ]
}